{
 "cells": [
  {
   "cell_type": "code",
   "execution_count": 72,
   "id": "1acf24fb",
   "metadata": {},
   "outputs": [],
   "source": [
    "test_input = \"\"\"199\n",
    "200\n",
    "208\n",
    "210\n",
    "200\n",
    "207\n",
    "240\n",
    "269\n",
    "260\n",
    "263\"\"\";"
   ]
  },
  {
   "cell_type": "code",
   "execution_count": 73,
   "id": "4fbcebe7",
   "metadata": {
    "scrolled": true
   },
   "outputs": [],
   "source": [
    "def count_dives (dives): \n",
    "    count =0;\n",
    "    prev = 0;\n",
    "    for line in dives:\n",
    "        #print (str(line) + \" \" + str(prev));\n",
    "        if (int(line) - prev > 0 and prev>0) :\n",
    "            count +=1\n",
    "        prev = int(line);\n",
    "    return count;"
   ]
  },
  {
   "cell_type": "code",
   "execution_count": 74,
   "id": "3104a370",
   "metadata": {},
   "outputs": [],
   "source": [
    "def sliding_window (dives):\n",
    "    a = [];\n",
    "    i = 0;\n",
    "    while (i< len(dives)-2):\n",
    "        a.append(int(dives[i])+int(dives[i+1])+int(dives[i+2]));\n",
    "        i+=1;\n",
    "    return a;"
   ]
  },
  {
   "cell_type": "code",
   "execution_count": 75,
   "id": "6d1cceec",
   "metadata": {
    "scrolled": false
   },
   "outputs": [
    {
     "name": "stdout",
     "output_type": "stream",
     "text": [
      "7\n"
     ]
    }
   ],
   "source": [
    "print (count_dives(test_input.split()));"
   ]
  },
  {
   "cell_type": "code",
   "execution_count": 76,
   "id": "481e56e5",
   "metadata": {
    "scrolled": false
   },
   "outputs": [
    {
     "name": "stdout",
     "output_type": "stream",
     "text": [
      "5\n"
     ]
    }
   ],
   "source": [
    "print (count_dives(sliding_window(test_input.split())));"
   ]
  },
  {
   "cell_type": "code",
   "execution_count": 77,
   "id": "416ec81f",
   "metadata": {
    "scrolled": true
   },
   "outputs": [
    {
     "name": "stdout",
     "output_type": "stream",
     "text": [
      "1139\n"
     ]
    }
   ],
   "source": [
    "%run ./util.ipynb\n",
    "print (count_dives(read_file('day1')));"
   ]
  },
  {
   "cell_type": "code",
   "execution_count": 78,
   "id": "8d487453",
   "metadata": {
    "scrolled": true
   },
   "outputs": [
    {
     "name": "stdout",
     "output_type": "stream",
     "text": [
      "1103\n"
     ]
    }
   ],
   "source": [
    "%run ./util.ipynb\n",
    "print (count_dives(sliding_window(read_file('day1'))));"
   ]
  },
  {
   "cell_type": "code",
   "execution_count": null,
   "id": "fce6c5f1",
   "metadata": {},
   "outputs": [],
   "source": []
  }
 ],
 "metadata": {
  "kernelspec": {
   "display_name": "Python 3",
   "language": "python",
   "name": "python3"
  },
  "language_info": {
   "codemirror_mode": {
    "name": "ipython",
    "version": 3
   },
   "file_extension": ".py",
   "mimetype": "text/x-python",
   "name": "python",
   "nbconvert_exporter": "python",
   "pygments_lexer": "ipython3",
   "version": "3.8.8"
  }
 },
 "nbformat": 4,
 "nbformat_minor": 5
}
