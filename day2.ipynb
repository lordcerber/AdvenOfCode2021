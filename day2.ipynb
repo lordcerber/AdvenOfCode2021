{
 "cells": [
  {
   "cell_type": "code",
   "execution_count": 4,
   "id": "9a64bf8c",
   "metadata": {},
   "outputs": [],
   "source": [
    "test_input = \"\"\"forward 5\n",
    "down 5\n",
    "forward 8\n",
    "up 3\n",
    "down 8\n",
    "forward 2\"\"\".splitlines();"
   ]
  },
  {
   "cell_type": "code",
   "execution_count": 5,
   "id": "e5409cb5",
   "metadata": {},
   "outputs": [
    {
     "name": "stdout",
     "output_type": "stream",
     "text": [
      "['forward 5', 'down 5', 'forward 8', 'up 3', 'down 8', 'forward 2']\n"
     ]
    }
   ],
   "source": [
    "print (test_input)"
   ]
  },
  {
   "cell_type": "code",
   "execution_count": 17,
   "id": "d0da80c9",
   "metadata": {},
   "outputs": [],
   "source": [
    "def navigate_sub (input):\n",
    "    x = 0\n",
    "    y = 0\n",
    "    for i in input:\n",
    "        a = i.split()[0];\n",
    "        b = i.split()[1];\n",
    "        #print (a + \" and \" +b)\n",
    "        if (a == \"forward\"):\n",
    "            x += int(b);\n",
    "        elif (a == \"down\"):\n",
    "            y += int(b);\n",
    "        elif (a == \"up\"):\n",
    "            y -= int(b);\n",
    "    print (\"distance is \"+str(x))\n",
    "    print (\"depth is \"+str(y))\n",
    "    print (\"answer is \" + str(x*y))"
   ]
  },
  {
   "cell_type": "code",
   "execution_count": 20,
   "id": "a81c0fb7",
   "metadata": {},
   "outputs": [],
   "source": [
    "def navigate_sub2 (input):\n",
    "    x = 0\n",
    "    y = 0\n",
    "    aim=0\n",
    "    for i in input:\n",
    "        a = i.split()[0];\n",
    "        b = i.split()[1];\n",
    "        #print (a + \" and \" +b)\n",
    "        if (a == \"forward\"):\n",
    "            x += int(b);\n",
    "            y += int(b)*aim;\n",
    "        elif (a == \"down\"):\n",
    "            aim += int(b);\n",
    "        elif (a == \"up\"):\n",
    "            aim -= int(b);\n",
    "    print (\"distance is \"+str(x))\n",
    "    print (\"depth is \"+str(y))\n",
    "    print (\"answer is \" + str(x*y))"
   ]
  },
  {
   "cell_type": "code",
   "execution_count": 18,
   "id": "34cbc666",
   "metadata": {},
   "outputs": [
    {
     "name": "stdout",
     "output_type": "stream",
     "text": [
      "distance is 15\n",
      "depth is 10\n",
      "answer is 150\n"
     ]
    }
   ],
   "source": [
    "navigate_sub(test_input)"
   ]
  },
  {
   "cell_type": "code",
   "execution_count": 21,
   "id": "6d7ac8e5",
   "metadata": {},
   "outputs": [
    {
     "name": "stdout",
     "output_type": "stream",
     "text": [
      "distance is 15\n",
      "depth is 60\n",
      "answer is 900\n"
     ]
    }
   ],
   "source": [
    "navigate_sub2(test_input)"
   ]
  },
  {
   "cell_type": "code",
   "execution_count": 19,
   "id": "de546954",
   "metadata": {},
   "outputs": [
    {
     "name": "stdout",
     "output_type": "stream",
     "text": [
      "distance is 2165\n",
      "depth is 933\n",
      "answer is 2019945\n"
     ]
    }
   ],
   "source": [
    "%run ./util.ipynb\n",
    "navigate_sub(read_file('day2'))"
   ]
  },
  {
   "cell_type": "code",
   "execution_count": 22,
   "id": "5727a6ea",
   "metadata": {
    "scrolled": true
   },
   "outputs": [
    {
     "name": "stdout",
     "output_type": "stream",
     "text": [
      "distance is 2165\n",
      "depth is 738712\n",
      "answer is 1599311480\n"
     ]
    }
   ],
   "source": [
    "%run ./util.ipynb\n",
    "navigate_sub2(read_file('day2'))"
   ]
  },
  {
   "cell_type": "code",
   "execution_count": null,
   "id": "bd013ae0",
   "metadata": {},
   "outputs": [],
   "source": []
  }
 ],
 "metadata": {
  "kernelspec": {
   "display_name": "Python 3",
   "language": "python",
   "name": "python3"
  },
  "language_info": {
   "codemirror_mode": {
    "name": "ipython",
    "version": 3
   },
   "file_extension": ".py",
   "mimetype": "text/x-python",
   "name": "python",
   "nbconvert_exporter": "python",
   "pygments_lexer": "ipython3",
   "version": "3.8.8"
  }
 },
 "nbformat": 4,
 "nbformat_minor": 5
}
